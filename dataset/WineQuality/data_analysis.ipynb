{
 "cells": [
  {
   "cell_type": "code",
   "execution_count": 1,
   "metadata": {},
   "outputs": [],
   "source": [
    "import pandas as pd\n",
    "import numpy as np\n",
    "import matplotlib.pyplot as plt\n",
    "# import seaborn as sns\n",
    "\n",
    "import warnings\n",
    "warnings.filterwarnings('ignore')"
   ]
  },
  {
   "cell_type": "code",
   "execution_count": 37,
   "metadata": {},
   "outputs": [],
   "source": [
    "filepath_1 = 'winequality-red.csv'\n",
    "filepath_2 = 'winequality-white.csv'\n",
    "dataname = 'WineQuality'"
   ]
  },
  {
   "cell_type": "code",
   "execution_count": 43,
   "metadata": {},
   "outputs": [
    {
     "data": {
      "text/plain": [
       "(1599, 4898, 6497)"
      ]
     },
     "execution_count": 43,
     "metadata": {},
     "output_type": "execute_result"
    }
   ],
   "source": [
    "df_1 = pd.read_csv(filepath_1, sep=';')\n",
    "df_2 = pd.read_csv(filepath_2, sep=';')\n",
    "df = pd.concat([df_1, df_2])\n",
    "len(df_1), len(df_2), len(df)"
   ]
  },
  {
   "cell_type": "code",
   "execution_count": 44,
   "metadata": {},
   "outputs": [
    {
     "name": "stdout",
     "output_type": "stream",
     "text": [
      "|[WineQuality](https://archive.ics.uci.edu/dataset/332/online+news+popularity)| 6497 | 11 | mixed|\n"
     ]
    }
   ],
   "source": [
    "data_link = 'https://archive.ics.uci.edu/dataset/332/online+news+popularity'\n",
    "print(\"|[{}]({})| {} | {} | mixed|\".format(dataname, data_link, len(df), len(df.columns[:-1])))"
   ]
  },
  {
   "cell_type": "code",
   "execution_count": 45,
   "metadata": {},
   "outputs": [],
   "source": [
    "info_filepath = dataname+'.info'\n",
    "with open(info_filepath, 'w') as f:\n",
    "    for col in df.columns[:-1]:\n",
    "        if len(df[col].unique()) <= 10:\n",
    "            print(col, df[col].unique())\n",
    "            f.write(col + ' discrete\\n')\n",
    "        else:\n",
    "            f.write(col + ' continuous\\n')\n",
    "    f.write(df.columns[-1] + ' continuous\\n')  # consider target value as continuous variable\n",
    "    f.write('LABEL_POS -1')"
   ]
  },
  {
   "cell_type": "code",
   "execution_count": 40,
   "metadata": {},
   "outputs": [],
   "source": [
    "df.to_csv(dataname+'.data', index=False, header=False)"
   ]
  },
  {
   "cell_type": "code",
   "execution_count": null,
   "metadata": {},
   "outputs": [],
   "source": []
  }
 ],
 "metadata": {
  "kernelspec": {
   "display_name": "Homework",
   "language": "python",
   "name": "python3"
  },
  "language_info": {
   "codemirror_mode": {
    "name": "ipython",
    "version": 3
   },
   "file_extension": ".py",
   "mimetype": "text/x-python",
   "name": "python",
   "nbconvert_exporter": "python",
   "pygments_lexer": "ipython3",
   "version": "3.8.13"
  }
 },
 "nbformat": 4,
 "nbformat_minor": 2
}
