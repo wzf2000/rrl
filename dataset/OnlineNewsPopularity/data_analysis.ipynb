{
 "cells": [
  {
   "cell_type": "code",
   "execution_count": null,
   "metadata": {},
   "outputs": [],
   "source": [
    "import pandas as pd\n",
    "import numpy as np\n",
    "import matplotlib.pyplot as plt\n",
    "import seaborn as sns\n",
    "\n",
    "import warnings\n",
    "warnings.filterwarnings('ignore')"
   ]
  },
  {
   "cell_type": "markdown",
   "metadata": {},
   "source": [
    "# Load Data"
   ]
  },
  {
   "cell_type": "code",
   "execution_count": null,
   "metadata": {},
   "outputs": [],
   "source": [
    "filepath = 'OnlineNewsPopularity.csv'\n",
    "dataname = 'OnlineNewsPopularity'"
   ]
  },
  {
   "cell_type": "code",
   "execution_count": null,
   "metadata": {},
   "outputs": [],
   "source": [
    "df = pd.read_csv(filepath)\n",
    "df.drop(columns='url', inplace=True)\n",
    "df"
   ]
  },
  {
   "cell_type": "code",
   "execution_count": null,
   "metadata": {},
   "outputs": [],
   "source": [
    "# data_link = 'https://archive.ics.uci.edu/dataset/186/wine+quality'\n",
    "# print(\"|[{}]({})| {} | {} | mixed|\".format(dataname, data_link, len(df), len(df.columns[:-1])))"
   ]
  },
  {
   "cell_type": "code",
   "execution_count": null,
   "metadata": {},
   "outputs": [],
   "source": [
    "df.columns = df.columns.str.strip()\n",
    "df.columns"
   ]
  },
  {
   "cell_type": "code",
   "execution_count": null,
   "metadata": {},
   "outputs": [],
   "source": [
    "channel_cols = [c for c in df.columns if 'channel' in c]\n",
    "channel_cols"
   ]
  },
  {
   "cell_type": "code",
   "execution_count": null,
   "metadata": {},
   "outputs": [],
   "source": [
    "channel_cols = [c for c in df.columns if 'channel' in c]\n",
    "df['channel_is_all_zero'] = df[channel_cols].sum(axis=1) == 0\n",
    "df['channel_is_all_zero'] = df['channel_is_all_zero'].apply(lambda x: 1 if x else 0)\n",
    "channel_cols = [c for c in df.columns if 'channel' in c]\n",
    "df[channel_cols]"
   ]
  },
  {
   "cell_type": "code",
   "execution_count": null,
   "metadata": {},
   "outputs": [],
   "source": [
    "channel_cols_dict = {c: i for i, c in enumerate(channel_cols)}\n",
    "df['channel'] = df[channel_cols].idxmax(axis=1)\n",
    "df['channel'] = df['channel'].apply(lambda x: channel_cols_dict[x])\n",
    "df['channel'].value_counts()"
   ]
  },
  {
   "cell_type": "code",
   "execution_count": null,
   "metadata": {},
   "outputs": [],
   "source": [
    "weekday_cols = [c for c in df.columns if 'weekday' in c]\n",
    "weekday_cols_dict = {c: i for i, c in enumerate(weekday_cols)}\n",
    "df['weekday'] = df[weekday_cols].idxmax(axis=1)\n",
    "df['weekday'] = df['weekday'].apply(lambda x: weekday_cols_dict[x])\n",
    "df['weekday'].value_counts()"
   ]
  },
  {
   "cell_type": "code",
   "execution_count": null,
   "metadata": {},
   "outputs": [],
   "source": [
    "df.drop(columns=channel_cols, inplace=True)\n",
    "df.drop(columns=weekday_cols, inplace=True)\n",
    "len(df.columns)"
   ]
  },
  {
   "cell_type": "code",
   "execution_count": null,
   "metadata": {},
   "outputs": [],
   "source": [
    "df_y = df['shares']\n",
    "df = df.drop('shares',axis=1)\n",
    "df.insert(48,'shares', df_y)\n",
    "df"
   ]
  },
  {
   "cell_type": "code",
   "execution_count": null,
   "metadata": {},
   "outputs": [],
   "source": [
    "# label\n",
    "df.iloc[:, -1].describe()"
   ]
  },
  {
   "cell_type": "code",
   "execution_count": null,
   "metadata": {},
   "outputs": [],
   "source": [
    "info_filepath = dataname+'.info'\n",
    "with open(info_filepath, 'w') as f:\n",
    "    for col in df.columns[:-1]:\n",
    "        if len(df[col].unique()) <= 10:\n",
    "            print(col, df[col].unique())\n",
    "            f.write(col + ' discrete\\n')\n",
    "        else:\n",
    "            f.write(col + ' continuous\\n')\n",
    "    f.write(df.columns[-1] + ' continuous\\n')  # consider target value as continuous variable\n",
    "    f.write('LABEL_POS -1')"
   ]
  },
  {
   "cell_type": "code",
   "execution_count": null,
   "metadata": {},
   "outputs": [],
   "source": [
    "df.to_csv(dataname+'.data', index=False, header=False)"
   ]
  },
  {
   "cell_type": "markdown",
   "metadata": {},
   "source": [
    "# Data Analysis"
   ]
  },
  {
   "cell_type": "code",
   "execution_count": null,
   "metadata": {},
   "outputs": [],
   "source": [
    "new_df = df.copy()\n",
    "new_df['shares'] = np.log(new_df['shares'])\n",
    "new_df['shares'].max()"
   ]
  },
  {
   "cell_type": "code",
   "execution_count": null,
   "metadata": {},
   "outputs": [],
   "source": [
    "# y label distribution\n",
    "plt.figure(num = None, figsize = (10,5), dpi = 80, facecolor = 'w', edgecolor = 'k')\n",
    "# df.iloc[:, -1].hist()\n",
    "sns.distplot(new_df.iloc[:, -1], hist=False, rug=False, kde_kws={\"shade\": True})\n",
    "plt.ylabel('counts')\n",
    "plt.title(f'{new_df.columns[-1]} distribution')\n",
    "plt.savefig('figs/'+dataname+'_label_distribution.png', dpi=300, bbox_inches='tight')\n",
    "plt.show()"
   ]
  },
  {
   "cell_type": "code",
   "execution_count": null,
   "metadata": {},
   "outputs": [],
   "source": [
    "# y label distribution\n",
    "plt.figure(num = None, figsize = (15,5), dpi = 80, facecolor = 'w', edgecolor = 'k')\n",
    "# df.iloc[:, -1].hist()\n",
    "savenames = ['', 'log']\n",
    "dfs = [df, new_df]\n",
    "for i in range(1, 3):\n",
    "    ax = plt.subplot(1, 2, i)\n",
    "    sns.distplot(dfs[i-1].iloc[:, -1], hist=True, rug=False, kde_kws={\"shade\": True})\n",
    "    ax.set_ylabel('counts')\n",
    "    ax.set_title(f'{savenames[i-1]} {df.columns[-1]} distribution')\n",
    "plt.savefig('figs/'+dataname+'_label_distribution.png', dpi=300, bbox_inches='tight')\n",
    "plt.show()"
   ]
  },
  {
   "cell_type": "code",
   "execution_count": null,
   "metadata": {},
   "outputs": [],
   "source": [
    "corrs = new_df.corr().values\n",
    "drop_cols = []\n",
    "remain_cols = []\n",
    "threshold = 0.01\n",
    "for i in range(len(corrs)-1):\n",
    "    if corrs[i, -1] > threshold or corrs[i, -1] < -threshold:\n",
    "        remain_cols.append(df.columns[i])\n",
    "        # print(df.columns[i], corrs[i, -1])\n",
    "    else:\n",
    "        drop_cols.append(df.columns[i])\n",
    "        print(df.columns[i], corrs[i, -1])\n",
    "print(len(drop_cols), drop_cols)"
   ]
  }
 ],
 "metadata": {
  "kernelspec": {
   "display_name": "Homework",
   "language": "python",
   "name": "python3"
  },
  "language_info": {
   "codemirror_mode": {
    "name": "ipython",
    "version": 3
   },
   "file_extension": ".py",
   "mimetype": "text/x-python",
   "name": "python",
   "nbconvert_exporter": "python",
   "pygments_lexer": "ipython3",
   "version": "3.8.13"
  }
 },
 "nbformat": 4,
 "nbformat_minor": 2
}
